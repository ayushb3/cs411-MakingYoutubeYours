{
 "cells": [
  {
   "cell_type": "code",
   "execution_count": 1,
   "metadata": {},
   "outputs": [],
   "source": [
    "import youtube_analysis\n",
    "from mysql.connector import Error\n",
    "import mysql.connector\n",
    "from flask import Flask, render_template, request, redirect, session\n",
    "import sys\n",
    "import logging\n",
    "import secrets\n",
    "import cohere\n",
    "import random\n",
    "import pandas as pd"
   ]
  },
  {
   "cell_type": "code",
   "execution_count": 2,
   "metadata": {},
   "outputs": [],
   "source": [
    "def connect():\n",
    "    try:\n",
    "        connection = mysql.connector.connect(\n",
    "            host='35.193.136.209',\n",
    "            database='YoutubeTrending',\n",
    "            user='root',\n",
    "            password='test1234')\n",
    "        if connection.is_connected():\n",
    "            print('Connected to MySQL database')\n",
    "            return connection\n",
    "    except Error as e:\n",
    "        print(f'Error connecting to MySQL database: {e}')"
   ]
  },
  {
   "cell_type": "code",
   "execution_count": 4,
   "metadata": {},
   "outputs": [
    {
     "name": "stdout",
     "output_type": "stream",
     "text": [
      "Connected to MySQL database\n"
     ]
    },
    {
     "data": {
      "text/plain": [
       "[(0, 1, Decimal('0'), 1, Decimal('0')),\n",
       " (1, 1305, Decimal('137191815'), 307, Decimal('3492973405')),\n",
       " (2, 647, Decimal('29853986'), 143, Decimal('725037251')),\n",
       " (10, 5426, Decimal('1530857650'), 1447, Decimal('26963943278')),\n",
       " (15, 150, Decimal('9610088'), 38, Decimal('221566198')),\n",
       " (17, 4250, Decimal('165943687'), 546, Decimal('7406898205')),\n",
       " (19, 184, Decimal('12009249'), 44, Decimal('241735135')),\n",
       " (20, 6791, Decimal('637651216'), 1428, Decimal('12799022938')),\n",
       " (22, 3065, Decimal('334938760'), 924, Decimal('6145286489')),\n",
       " (23, 1765, Decimal('227436414'), 347, Decimal('3275311344')),\n",
       " (24, 6752, Decimal('952467175'), 1471, Decimal('20384031591')),\n",
       " (25, 1312, Decimal('27565971'), 305, Decimal('2021003442')),\n",
       " (26, 923, Decimal('69527661'), 210, Decimal('1439144350')),\n",
       " (27, 807, Decimal('89638566'), 172, Decimal('1711676557')),\n",
       " (28, 1047, Decimal('112126830'), 190, Decimal('3089281549')),\n",
       " (29, 18, Decimal('3117567'), 13, Decimal('38611288'))]"
      ]
     },
     "execution_count": 4,
     "metadata": {},
     "output_type": "execute_result"
    }
   ],
   "source": [
    "connection = connect()\n",
    "cursor = connection.cursor()\n",
    "\n",
    "# Query to get the totalPublished, totalLiked, totalChannels, and totalViews for each category\n",
    "query = \"SELECT categoryId, COUNT(video_id) AS totalPublished, SUM(likes) AS totalLiked, COUNT(DISTINCT channelId) AS totalChannels, SUM(view_count) AS totalViews FROM VideoInfo GROUP BY categoryId\"\n",
    "\n",
    "cursor.execute(query)\n",
    "results = cursor.fetchall()\n",
    "results"
   ]
  },
  {
   "cell_type": "code",
   "execution_count": 5,
   "metadata": {},
   "outputs": [],
   "source": [
    "# Loop through the results and insert/update the data in the CategoryInfo table\n",
    "for result in results:\n",
    "    categoryId = result[0]\n",
    "    totalPublished = result[1]\n",
    "    totalLiked = result[2]\n",
    "    totalChannels = result[3]\n",
    "    totalViews = result[4]\n",
    "\n",
    "    # Check if the category already exists in the CategoryInfo table\n",
    "    query = \"SELECT * FROM CategoryInfo WHERE categoryId = %s\"\n",
    "    values = (categoryId,)\n",
    "    cursor.execute(query, values)\n",
    "    category = cursor.fetchone()\n",
    "\n",
    "    if category:\n",
    "        # If the category exists, update the data\n",
    "        query = \"UPDATE CategoryInfo SET totalPublished = %s, totalLiked = %s, totalChannels = %s, totalViews = %s WHERE categoryId = %s\"\n",
    "        values = (totalPublished, totalLiked, totalChannels, totalViews, categoryId)\n",
    "        cursor.execute(query, values)\n",
    "    else:\n",
    "        # If the category does not exist, insert the data\n",
    "        query = \"INSERT INTO CategoryInfo (categoryId, totalPublished, totalLiked, totalChannels, totalViews) VALUES (%s, %s, %s, %s, %s)\"\n",
    "        values = (categoryId, totalPublished, totalLiked, totalChannels, totalViews)\n",
    "        cursor.execute(query, values)\n",
    "\n",
    "connection.commit()\n",
    "# Close the database connection\n",
    "connection.close()"
   ]
  },
  {
   "cell_type": "code",
   "execution_count": null,
   "metadata": {},
   "outputs": [],
   "source": []
  }
 ],
 "metadata": {
  "kernelspec": {
   "display_name": "Python 3",
   "language": "python",
   "name": "python3"
  },
  "language_info": {
   "codemirror_mode": {
    "name": "ipython",
    "version": 3
   },
   "file_extension": ".py",
   "mimetype": "text/x-python",
   "name": "python",
   "nbconvert_exporter": "python",
   "pygments_lexer": "ipython3",
   "version": "3.11.3"
  },
  "orig_nbformat": 4
 },
 "nbformat": 4,
 "nbformat_minor": 2
}
